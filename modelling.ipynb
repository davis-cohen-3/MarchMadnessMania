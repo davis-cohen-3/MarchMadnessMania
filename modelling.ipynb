{
 "cells": [
  {
   "cell_type": "code",
   "execution_count": 83,
   "id": "eb377c2a-c9b0-4b7e-af67-b004bd903be2",
   "metadata": {},
   "outputs": [],
   "source": [
    "import pandas as pd\n",
    "import numpy as np\n",
    "import matplotlib.pyplot as plt\n",
    "import seaborn as sns\n",
    "import sklearn\n",
    "from sklearn.metrics import *\n",
    "from sklearn.linear_model import *\n",
    "from sklearn.model_selection import *\n",
    "from sklearn.preprocessing import StandardScaler, MinMaxScaler\n",
    "import xgboost as xgb\n",
    "\n"
   ]
  },
  {
   "cell_type": "code",
   "execution_count": 84,
   "id": "688d77ff-6dba-4a39-baff-bef985a6b9e1",
   "metadata": {},
   "outputs": [],
   "source": [
    "df = pd.read_csv('feat_games.csv')"
   ]
  },
  {
   "cell_type": "markdown",
   "id": "82da4a0a-a1c3-4595-b584-a065802dea10",
   "metadata": {},
   "source": [
    "- make unique id for each games as a combo of teamA and teamB's ids, with the season. Make this the index\n",
    "- keep winTeamA, seed_difference, average ranking diff, early ranking, late ranking, median ranking, power6, offensive efficiency, defensive efficiency,  field goal attempts per game, points per game, opponent turnovers,  turnover pctg, and assists per game.\n",
    "- scale data (minmax, and research other scaling methods)"
   ]
  },
  {
   "cell_type": "code",
   "execution_count": 85,
   "id": "c2bc476f-6f91-421d-8608-70e91695b9b0",
   "metadata": {},
   "outputs": [],
   "source": [
    "columns = ['Season','Team A', 'Team B', 'WinTeamA', 'ScoreDiff', 'Seed_AmenoB', 'Early Ranking_AmenoB', 'Late Ranking_AmenoB', 'defEff_AmenoB', 'offEff_AmenoB', 'Power6_AmenoB', 'Median Ranking_AmenoB', 'Average Ranking_AmenoB', 'OppTO_AmenoB',\n",
    "          'TotalPoints_AmenoB','TotalAssists_AmenoB', 'TOPctg_AmenoB']\n",
    "df = df[columns]"
   ]
  },
  {
   "cell_type": "code",
   "execution_count": 86,
   "id": "335e8769-1047-40e5-84f0-1f589e382259",
   "metadata": {},
   "outputs": [],
   "source": [
    "features = ['Seed_AmenoB', 'Early Ranking_AmenoB', 'Late Ranking_AmenoB', 'defEff_AmenoB', 'offEff_AmenoB', 'Power6_AmenoB', 'Median Ranking_AmenoB', 'Average Ranking_AmenoB', 'OppTO_AmenoB',\n",
    "          'TotalPoints_AmenoB','TotalAssists_AmenoB', 'TOPctg_AmenoB']"
   ]
  },
  {
   "cell_type": "code",
   "execution_count": 6,
   "id": "bbfc2175-bcb5-4378-b313-34a1611c83f1",
   "metadata": {},
   "outputs": [
    {
     "data": {
      "text/html": [
       "<div>\n",
       "<style scoped>\n",
       "    .dataframe tbody tr th:only-of-type {\n",
       "        vertical-align: middle;\n",
       "    }\n",
       "\n",
       "    .dataframe tbody tr th {\n",
       "        vertical-align: top;\n",
       "    }\n",
       "\n",
       "    .dataframe thead th {\n",
       "        text-align: right;\n",
       "    }\n",
       "</style>\n",
       "<table border=\"1\" class=\"dataframe\">\n",
       "  <thead>\n",
       "    <tr style=\"text-align: right;\">\n",
       "      <th></th>\n",
       "      <th>Season</th>\n",
       "      <th>Team A</th>\n",
       "      <th>Team B</th>\n",
       "      <th>WinTeamA</th>\n",
       "      <th>ScoreDiff</th>\n",
       "      <th>Seed_AmenoB</th>\n",
       "      <th>Early Ranking_AmenoB</th>\n",
       "      <th>Late Ranking_AmenoB</th>\n",
       "      <th>defEff_AmenoB</th>\n",
       "      <th>offEff_AmenoB</th>\n",
       "      <th>Power6_AmenoB</th>\n",
       "      <th>Median Ranking_AmenoB</th>\n",
       "      <th>Average Ranking_AmenoB</th>\n",
       "      <th>OppTO_AmenoB</th>\n",
       "      <th>TotalPoints_AmenoB</th>\n",
       "      <th>TotalAssists_AmenoB</th>\n",
       "      <th>TOPctg_AmenoB</th>\n",
       "    </tr>\n",
       "  </thead>\n",
       "  <tbody>\n",
       "    <tr>\n",
       "      <th>0</th>\n",
       "      <td>2003</td>\n",
       "      <td>1411</td>\n",
       "      <td>1421</td>\n",
       "      <td>0</td>\n",
       "      <td>-8</td>\n",
       "      <td>0</td>\n",
       "      <td>29.890244</td>\n",
       "      <td>1.947368</td>\n",
       "      <td>-21.424483</td>\n",
       "      <td>2.653173</td>\n",
       "      <td>0</td>\n",
       "      <td>-21.062780</td>\n",
       "      <td>-5.152500</td>\n",
       "      <td>66.0</td>\n",
       "      <td>119</td>\n",
       "      <td>48</td>\n",
       "      <td>-0.852268</td>\n",
       "    </tr>\n",
       "    <tr>\n",
       "      <th>1</th>\n",
       "      <td>2003</td>\n",
       "      <td>1112</td>\n",
       "      <td>1436</td>\n",
       "      <td>1</td>\n",
       "      <td>29</td>\n",
       "      <td>-15</td>\n",
       "      <td>-175.866125</td>\n",
       "      <td>-163.227723</td>\n",
       "      <td>-12.873977</td>\n",
       "      <td>8.258702</td>\n",
       "      <td>0</td>\n",
       "      <td>-167.405295</td>\n",
       "      <td>-168.120756</td>\n",
       "      <td>174.0</td>\n",
       "      <td>420</td>\n",
       "      <td>82</td>\n",
       "      <td>-2.049504</td>\n",
       "    </tr>\n",
       "    <tr>\n",
       "      <th>2</th>\n",
       "      <td>2003</td>\n",
       "      <td>1113</td>\n",
       "      <td>1272</td>\n",
       "      <td>1</td>\n",
       "      <td>13</td>\n",
       "      <td>3</td>\n",
       "      <td>15.085366</td>\n",
       "      <td>11.226842</td>\n",
       "      <td>12.929152</td>\n",
       "      <td>3.754363</td>\n",
       "      <td>0</td>\n",
       "      <td>-12.730942</td>\n",
       "      <td>-1.107500</td>\n",
       "      <td>-61.0</td>\n",
       "      <td>42</td>\n",
       "      <td>-31</td>\n",
       "      <td>1.232274</td>\n",
       "    </tr>\n",
       "  </tbody>\n",
       "</table>\n",
       "</div>"
      ],
      "text/plain": [
       "   Season  Team A  Team B  WinTeamA  ScoreDiff  Seed_AmenoB  \\\n",
       "0    2003    1411    1421         0         -8            0   \n",
       "1    2003    1112    1436         1         29          -15   \n",
       "2    2003    1113    1272         1         13            3   \n",
       "\n",
       "   Early Ranking_AmenoB  Late Ranking_AmenoB  defEff_AmenoB  offEff_AmenoB  \\\n",
       "0             29.890244             1.947368     -21.424483       2.653173   \n",
       "1           -175.866125          -163.227723     -12.873977       8.258702   \n",
       "2             15.085366            11.226842      12.929152       3.754363   \n",
       "\n",
       "   Power6_AmenoB  Median Ranking_AmenoB  Average Ranking_AmenoB  OppTO_AmenoB  \\\n",
       "0              0             -21.062780               -5.152500          66.0   \n",
       "1              0            -167.405295             -168.120756         174.0   \n",
       "2              0             -12.730942               -1.107500         -61.0   \n",
       "\n",
       "   TotalPoints_AmenoB  TotalAssists_AmenoB  TOPctg_AmenoB  \n",
       "0                 119                   48      -0.852268  \n",
       "1                 420                   82      -2.049504  \n",
       "2                  42                  -31       1.232274  "
      ]
     },
     "execution_count": 6,
     "metadata": {},
     "output_type": "execute_result"
    }
   ],
   "source": [
    "df.head(3)"
   ]
  },
  {
   "cell_type": "code",
   "execution_count": 87,
   "id": "62e14ac8-64df-4956-a388-6a791832ae3e",
   "metadata": {},
   "outputs": [],
   "source": [
    "df['UniqueKey'] = df.loc[:,'Season'].astype(str) + '_'+ df.loc[:,'Team A'].astype(str) + '_'+ df.loc[:,'Team B'].astype(str)\n",
    "df.set_index('UniqueKey', inplace=True)\n",
    "\n",
    "                                                                                           "
   ]
  },
  {
   "cell_type": "code",
   "execution_count": 88,
   "id": "b125d19e-36f7-4afc-bc8d-c9659b181666",
   "metadata": {},
   "outputs": [],
   "source": [
    "df.drop(['Team A', 'Team B'], axis=1, inplace=True)"
   ]
  },
  {
   "cell_type": "code",
   "execution_count": 89,
   "id": "f27a2e25-d939-4d6d-95bb-98ed768390aa",
   "metadata": {},
   "outputs": [],
   "source": [
    "df.drop(['ScoreDiff'], axis=1, inplace=True)"
   ]
  },
  {
   "cell_type": "code",
   "execution_count": 90,
   "id": "9e511d57-e3ed-4eb1-b977-7f72899b0aaf",
   "metadata": {},
   "outputs": [
    {
     "data": {
      "text/html": [
       "<div>\n",
       "<style scoped>\n",
       "    .dataframe tbody tr th:only-of-type {\n",
       "        vertical-align: middle;\n",
       "    }\n",
       "\n",
       "    .dataframe tbody tr th {\n",
       "        vertical-align: top;\n",
       "    }\n",
       "\n",
       "    .dataframe thead th {\n",
       "        text-align: right;\n",
       "    }\n",
       "</style>\n",
       "<table border=\"1\" class=\"dataframe\">\n",
       "  <thead>\n",
       "    <tr style=\"text-align: right;\">\n",
       "      <th></th>\n",
       "      <th>Season</th>\n",
       "      <th>WinTeamA</th>\n",
       "      <th>Seed_AmenoB</th>\n",
       "      <th>Early Ranking_AmenoB</th>\n",
       "      <th>Late Ranking_AmenoB</th>\n",
       "      <th>defEff_AmenoB</th>\n",
       "      <th>offEff_AmenoB</th>\n",
       "      <th>Power6_AmenoB</th>\n",
       "      <th>Median Ranking_AmenoB</th>\n",
       "      <th>Average Ranking_AmenoB</th>\n",
       "      <th>OppTO_AmenoB</th>\n",
       "      <th>TotalPoints_AmenoB</th>\n",
       "      <th>TotalAssists_AmenoB</th>\n",
       "      <th>TOPctg_AmenoB</th>\n",
       "    </tr>\n",
       "    <tr>\n",
       "      <th>UniqueKey</th>\n",
       "      <th></th>\n",
       "      <th></th>\n",
       "      <th></th>\n",
       "      <th></th>\n",
       "      <th></th>\n",
       "      <th></th>\n",
       "      <th></th>\n",
       "      <th></th>\n",
       "      <th></th>\n",
       "      <th></th>\n",
       "      <th></th>\n",
       "      <th></th>\n",
       "      <th></th>\n",
       "      <th></th>\n",
       "    </tr>\n",
       "  </thead>\n",
       "  <tbody>\n",
       "    <tr>\n",
       "      <th>2003_1411_1421</th>\n",
       "      <td>2003</td>\n",
       "      <td>0</td>\n",
       "      <td>0</td>\n",
       "      <td>29.890244</td>\n",
       "      <td>1.947368</td>\n",
       "      <td>-21.424483</td>\n",
       "      <td>2.653173</td>\n",
       "      <td>0</td>\n",
       "      <td>-21.062780</td>\n",
       "      <td>-5.152500</td>\n",
       "      <td>66.0</td>\n",
       "      <td>119</td>\n",
       "      <td>48</td>\n",
       "      <td>-0.852268</td>\n",
       "    </tr>\n",
       "    <tr>\n",
       "      <th>2003_1112_1436</th>\n",
       "      <td>2003</td>\n",
       "      <td>1</td>\n",
       "      <td>-15</td>\n",
       "      <td>-175.866125</td>\n",
       "      <td>-163.227723</td>\n",
       "      <td>-12.873977</td>\n",
       "      <td>8.258702</td>\n",
       "      <td>0</td>\n",
       "      <td>-167.405295</td>\n",
       "      <td>-168.120756</td>\n",
       "      <td>174.0</td>\n",
       "      <td>420</td>\n",
       "      <td>82</td>\n",
       "      <td>-2.049504</td>\n",
       "    </tr>\n",
       "    <tr>\n",
       "      <th>2003_1113_1272</th>\n",
       "      <td>2003</td>\n",
       "      <td>1</td>\n",
       "      <td>3</td>\n",
       "      <td>15.085366</td>\n",
       "      <td>11.226842</td>\n",
       "      <td>12.929152</td>\n",
       "      <td>3.754363</td>\n",
       "      <td>0</td>\n",
       "      <td>-12.730942</td>\n",
       "      <td>-1.107500</td>\n",
       "      <td>-61.0</td>\n",
       "      <td>42</td>\n",
       "      <td>-31</td>\n",
       "      <td>1.232274</td>\n",
       "    </tr>\n",
       "  </tbody>\n",
       "</table>\n",
       "</div>"
      ],
      "text/plain": [
       "                Season  WinTeamA  Seed_AmenoB  Early Ranking_AmenoB  \\\n",
       "UniqueKey                                                             \n",
       "2003_1411_1421    2003         0            0             29.890244   \n",
       "2003_1112_1436    2003         1          -15           -175.866125   \n",
       "2003_1113_1272    2003         1            3             15.085366   \n",
       "\n",
       "                Late Ranking_AmenoB  defEff_AmenoB  offEff_AmenoB  \\\n",
       "UniqueKey                                                           \n",
       "2003_1411_1421             1.947368     -21.424483       2.653173   \n",
       "2003_1112_1436          -163.227723     -12.873977       8.258702   \n",
       "2003_1113_1272            11.226842      12.929152       3.754363   \n",
       "\n",
       "                Power6_AmenoB  Median Ranking_AmenoB  Average Ranking_AmenoB  \\\n",
       "UniqueKey                                                                      \n",
       "2003_1411_1421              0             -21.062780               -5.152500   \n",
       "2003_1112_1436              0            -167.405295             -168.120756   \n",
       "2003_1113_1272              0             -12.730942               -1.107500   \n",
       "\n",
       "                OppTO_AmenoB  TotalPoints_AmenoB  TotalAssists_AmenoB  \\\n",
       "UniqueKey                                                               \n",
       "2003_1411_1421          66.0                 119                   48   \n",
       "2003_1112_1436         174.0                 420                   82   \n",
       "2003_1113_1272         -61.0                  42                  -31   \n",
       "\n",
       "                TOPctg_AmenoB  \n",
       "UniqueKey                      \n",
       "2003_1411_1421      -0.852268  \n",
       "2003_1112_1436      -2.049504  \n",
       "2003_1113_1272       1.232274  "
      ]
     },
     "execution_count": 90,
     "metadata": {},
     "output_type": "execute_result"
    }
   ],
   "source": [
    "df.head(3)"
   ]
  },
  {
   "cell_type": "markdown",
   "id": "87e42461-11da-4e92-a41b-ef77c127557b",
   "metadata": {},
   "source": [
    "Using standard scalar because all the features follow a normal distribution for the most part. We can check Robust scaling because some teams might have outliers in certain features"
   ]
  },
  {
   "cell_type": "code",
   "execution_count": 22,
   "id": "a0840586-4dd3-47a8-9e9a-f4261acacee3",
   "metadata": {},
   "outputs": [],
   "source": [
    "X = df[features]\n",
    "y = df['WinTeamA']\n",
    "\n",
    "scaler = MinMaxScaler()\n",
    "X_scaled = scaler.fit_transform(X)\n",
    "\n",
    "\n"
   ]
  },
  {
   "cell_type": "code",
   "execution_count": 23,
   "id": "d887f9b6-356a-4235-961a-d3bd3c809554",
   "metadata": {},
   "outputs": [],
   "source": [
    "from scipy.sparse import csr_matrix\n"
   ]
  },
  {
   "cell_type": "code",
   "execution_count": 24,
   "id": "a7d73cea-f8dd-4461-9f0c-ad91d80c94c6",
   "metadata": {},
   "outputs": [
    {
     "name": "stderr",
     "output_type": "stream",
     "text": [
      "/opt/homebrew/Caskroom/miniforge/base/envs/myenv/lib/python3.9/site-packages/xgboost/data.py:440: FutureWarning: is_sparse is deprecated and will be removed in a future version. Check `isinstance(dtype, pd.SparseDtype)` instead.\n",
      "  if is_sparse(data):\n"
     ]
    }
   ],
   "source": [
    "# Assuming X_scaled is a sparse matrix\n",
    "X_dense = X_scaled.toarray() if isinstance(X_scaled, csr_matrix) else X_scaled\n",
    "\n",
    "# Create DMatrix with dense data\n",
    "dmatrix = xgb.DMatrix(X_dense, label=y)"
   ]
  },
  {
   "cell_type": "code",
   "execution_count": 100,
   "id": "4db987ae-4eab-46fd-9a14-4662d46c08e5",
   "metadata": {},
   "outputs": [],
   "source": [
    "params = {\n",
    "    'objective': 'binary:logistic',  # Binary classification problem\n",
    "    'max_depth': 3,                   # Maximum depth of a tree\n",
    "    'eta': 0.02,                       # Learning rate\n",
    "    'eval_metric': 'mae',          # Evaluation metric (logarithmic loss)\n",
    "    'booster': 'gbtree',\n",
    "    'seed': 42,\n",
    "    'gamma': 10,\n",
    "    'num_parallel_tree': 3,\n",
    "    'min_child_weight': 40,\n",
    "    'subsample': 0.35\n",
    "}"
   ]
  },
  {
   "cell_type": "markdown",
   "id": "893c2b98-0166-4e5e-94e6-53d1e524c106",
   "metadata": {},
   "source": [
    "First K_fold_cross_validation function"
   ]
  },
  {
   "cell_type": "code",
   "execution_count": 74,
   "id": "542b4866-75a7-4ead-85e5-f22dd1e1e57e",
   "metadata": {},
   "outputs": [],
   "source": [
    "\n",
    "\n",
    "def k_fold_cross_validation2(X, y, model_params, n_splits=5, random_state=None):\n",
    "    kf = KFold(n_splits=n_splits, shuffle=True, random_state=random_state)\n",
    "    mae_scores = []  # To store mean squared error for each fold\n",
    "    y_preds = []  # To store predictions for each fold\n",
    "    y_testedOn = []  # To store true values for each fold\n",
    "    n = 100\n",
    "\n",
    "    for train_index, test_index in kf.split(X):\n",
    "        X_train, X_test = X[train_index], X[test_index]\n",
    "        y_train, y_test = y[train_index], y[test_index]\n",
    "\n",
    "        dtrain_log = xgb.DMatrix(X_train, y_train)\n",
    "        dtest_log = xgb.DMatrix(X_test, y_test)\n",
    "\n",
    "        model = xgb.train(\n",
    "           params=params,\n",
    "           dtrain=dtrain_log,\n",
    "           num_boost_round=n,\n",
    "        )\n",
    "\n",
    "        preds = model.predict(dtest_log)\n",
    "        threshold = 0.5\n",
    "        binary_preds = [1 if prob > threshold else 0 for prob in preds]\n",
    "        \n",
    "        mae = mean_absolute_error(y_test, binary_preds)\n",
    "        mae_scores.append(mae)\n",
    "        y_preds.extend(binary_preds)\n",
    "        y_testedOn.extend(y_test)\n",
    "\n",
    "    return mae_scores, y_preds, y_testedOn\n"
   ]
  },
  {
   "cell_type": "code",
   "execution_count": 75,
   "id": "5880c769-dbc0-46ca-9147-67619414e548",
   "metadata": {},
   "outputs": [
    {
     "name": "stderr",
     "output_type": "stream",
     "text": [
      "/var/folders/_0/lfzv1d311sjbpc94z2sh41m80000gn/T/ipykernel_27768/4092677705.py:13: FutureWarning: Series.__getitem__ treating keys as positions is deprecated. In a future version, integer keys will always be treated as labels (consistent with DataFrame behavior). To access a value by position, use `ser.iloc[pos]`\n",
      "  y_train, y_test = y[train_index], y[test_index]\n",
      "/opt/homebrew/Caskroom/miniforge/base/envs/myenv/lib/python3.9/site-packages/xgboost/data.py:440: FutureWarning: is_sparse is deprecated and will be removed in a future version. Check `isinstance(dtype, pd.SparseDtype)` instead.\n",
      "  if is_sparse(data):\n",
      "/var/folders/_0/lfzv1d311sjbpc94z2sh41m80000gn/T/ipykernel_27768/4092677705.py:13: FutureWarning: Series.__getitem__ treating keys as positions is deprecated. In a future version, integer keys will always be treated as labels (consistent with DataFrame behavior). To access a value by position, use `ser.iloc[pos]`\n",
      "  y_train, y_test = y[train_index], y[test_index]\n",
      "/opt/homebrew/Caskroom/miniforge/base/envs/myenv/lib/python3.9/site-packages/xgboost/data.py:440: FutureWarning: is_sparse is deprecated and will be removed in a future version. Check `isinstance(dtype, pd.SparseDtype)` instead.\n",
      "  if is_sparse(data):\n",
      "/var/folders/_0/lfzv1d311sjbpc94z2sh41m80000gn/T/ipykernel_27768/4092677705.py:13: FutureWarning: Series.__getitem__ treating keys as positions is deprecated. In a future version, integer keys will always be treated as labels (consistent with DataFrame behavior). To access a value by position, use `ser.iloc[pos]`\n",
      "  y_train, y_test = y[train_index], y[test_index]\n",
      "/opt/homebrew/Caskroom/miniforge/base/envs/myenv/lib/python3.9/site-packages/xgboost/data.py:440: FutureWarning: is_sparse is deprecated and will be removed in a future version. Check `isinstance(dtype, pd.SparseDtype)` instead.\n",
      "  if is_sparse(data):\n"
     ]
    },
    {
     "name": "stdout",
     "output_type": "stream",
     "text": [
      "[13:50:29] WARNING: /Users/runner/miniforge3/conda-bld/xgboost-split_1697107917112/work/src/learner.cc:767: \n",
      "Parameters: { \"silent\" } are not used.\n",
      "\n",
      "[13:50:29] WARNING: /Users/runner/miniforge3/conda-bld/xgboost-split_1697107917112/work/src/learner.cc:767: \n",
      "Parameters: { \"silent\" } are not used.\n",
      "\n",
      "[13:50:29] WARNING: /Users/runner/miniforge3/conda-bld/xgboost-split_1697107917112/work/src/learner.cc:767: \n",
      "Parameters: { \"silent\" } are not used.\n",
      "\n",
      "[13:50:29] WARNING: /Users/runner/miniforge3/conda-bld/xgboost-split_1697107917112/work/src/learner.cc:767: \n",
      "Parameters: { \"silent\" } are not used.\n",
      "\n",
      "[13:50:29] WARNING: /Users/runner/miniforge3/conda-bld/xgboost-split_1697107917112/work/src/learner.cc:767: \n",
      "Parameters: { \"silent\" } are not used.\n",
      "\n"
     ]
    },
    {
     "name": "stderr",
     "output_type": "stream",
     "text": [
      "/var/folders/_0/lfzv1d311sjbpc94z2sh41m80000gn/T/ipykernel_27768/4092677705.py:13: FutureWarning: Series.__getitem__ treating keys as positions is deprecated. In a future version, integer keys will always be treated as labels (consistent with DataFrame behavior). To access a value by position, use `ser.iloc[pos]`\n",
      "  y_train, y_test = y[train_index], y[test_index]\n",
      "/opt/homebrew/Caskroom/miniforge/base/envs/myenv/lib/python3.9/site-packages/xgboost/data.py:440: FutureWarning: is_sparse is deprecated and will be removed in a future version. Check `isinstance(dtype, pd.SparseDtype)` instead.\n",
      "  if is_sparse(data):\n",
      "/var/folders/_0/lfzv1d311sjbpc94z2sh41m80000gn/T/ipykernel_27768/4092677705.py:13: FutureWarning: Series.__getitem__ treating keys as positions is deprecated. In a future version, integer keys will always be treated as labels (consistent with DataFrame behavior). To access a value by position, use `ser.iloc[pos]`\n",
      "  y_train, y_test = y[train_index], y[test_index]\n",
      "/opt/homebrew/Caskroom/miniforge/base/envs/myenv/lib/python3.9/site-packages/xgboost/data.py:440: FutureWarning: is_sparse is deprecated and will be removed in a future version. Check `isinstance(dtype, pd.SparseDtype)` instead.\n",
      "  if is_sparse(data):\n"
     ]
    }
   ],
   "source": [
    "kf = k_fold_cross_validation(X_scaled, y, model_params=params, random_state=42)\n"
   ]
  },
  {
   "cell_type": "code",
   "execution_count": 76,
   "id": "e112f143-1189-4746-b2dc-ad5d66659524",
   "metadata": {},
   "outputs": [
    {
     "name": "stdout",
     "output_type": "stream",
     "text": [
      "Average Mean Absolute Error: 0.2938496746048773\n"
     ]
    }
   ],
   "source": [
    "mae_scores = kf[0]\n",
    "\n",
    "average_mae = np.mean(mae_scores)\n",
    "print(f'Average Mean Absolute Error: {average_mae}')"
   ]
  },
  {
   "cell_type": "code",
   "execution_count": 81,
   "id": "ce80ea77-d5a6-467d-b41f-af452b49dc0d",
   "metadata": {},
   "outputs": [
    {
     "name": "stdout",
     "output_type": "stream",
     "text": [
      "{2016, 2017, 2018, 2019, 2021, 2003, 2004, 2005, 2006, 2007, 2008, 2009, 2010, 2011, 2012, 2013, 2014, 2015}\n"
     ]
    }
   ],
   "source": [
    "print(set(df.Season))"
   ]
  },
  {
   "cell_type": "markdown",
   "id": "65a88b17-a37f-4951-b3f4-4139585ee1de",
   "metadata": {},
   "source": [
    "look at this notebook for help on xgboost implementation: https://www.kaggle.com/code/publicmikewang/march-madness-model-prediction/notebook"
   ]
  },
  {
   "cell_type": "markdown",
   "id": "34f81337-6b7a-4914-a220-141a3296af3c",
   "metadata": {},
   "source": [
    "look at this https://www.kaggle.com/code/tihonby/march-madness-3th-place-solution"
   ]
  },
  {
   "cell_type": "markdown",
   "id": "65003b3c-2809-4129-b590-c0f3856553f8",
   "metadata": {},
   "source": [
    "Second k-fold cross validation function    \n",
    "difference is i am making my rounds of training based on the seasons.  For every season I am doing a training and testing set exlucing the season from the training set and making the testing set the sample of the data with the season=season."
   ]
  },
  {
   "cell_type": "code",
   "execution_count": 126,
   "id": "49a2e77e-9471-4bdd-878d-9aa06634ca3e",
   "metadata": {},
   "outputs": [],
   "source": [
    "params = {\n",
    "    'objective': 'binary:logistic',  # Binary classification problem\n",
    "    'max_depth': 3,                   # Maximum depth of a tree\n",
    "    'eta': 0.02,                       # Learning rate\n",
    "    'eval_metric': 'mae',          # Evaluation metric (logarithmic loss)\n",
    "    'booster': 'gbtree',\n",
    "    'seed': 42,\n",
    "    'gamma': 10,\n",
    "    'num_parallel_tree': 3,\n",
    "    'min_child_weight': 40,\n",
    "    'subsample': 0.35\n",
    "}\n",
    "\n",
    "features = ['Seed_AmenoB', 'Early Ranking_AmenoB', 'Late Ranking_AmenoB', 'defEff_AmenoB', 'offEff_AmenoB', 'Power6_AmenoB', 'Median Ranking_AmenoB', 'Average Ranking_AmenoB', 'OppTO_AmenoB',\n",
    "          'TotalPoints_AmenoB','TotalAssists_AmenoB', 'TOPctg_AmenoB']"
   ]
  },
  {
   "cell_type": "code",
   "execution_count": 141,
   "id": "098730ee-4aa5-43ae-a698-5092065dc8c7",
   "metadata": {},
   "outputs": [],
   "source": [
    "def cv_xg_boost(df, features, params):\n",
    "    models = {}\n",
    "    ssn_mae_scores = []\n",
    "    ssn_binary_predictions = []\n",
    "    ssn_targets = []\n",
    "    scaler = MinMaxScaler()\n",
    "    num_rounds = 500\n",
    "    features = sorted(features) # did this to  try and debug the error I am on right now \n",
    "    \n",
    "    \n",
    "    for ssn in sorted(set(df.Season)):\n",
    "        x_train = df.loc[df.Season!=ssn, features].values\n",
    "        y_train = df.loc[df.Season!=ssn, 'WinTeamA'].values   \n",
    "        x_val = df.loc[df.Season==ssn, features].values\n",
    "        y_val = df.loc[df.Season==ssn, 'WinTeamA'].values\n",
    "        x_train = scaler.fit_transform(x_train) # scaling training set X\n",
    "        x_val = scaler.fit_transform(x_val) # scaling testing set X\n",
    "        dtrain = xgb.DMatrix(x_train, label = y_train)\n",
    "        dval = xgb.DMatrix(x_val, label = y_val)\n",
    "        models[ssn] = xgb.train(\n",
    "              params = params,\n",
    "              dtrain = dtrain,\n",
    "              num_boost_round = num_rounds,\n",
    "        )\n",
    "    \n",
    "        preds = models[ssn].predict(dval)\n",
    "        binary_preds = [1 if pred > 0.5 else 0 for pred in preds]\n",
    "        print(f'season {ssn} mae: {mean_absolute_error(y_val, binary_preds)}')\n",
    "        ssn_mae_scores.append(mean_absolute_error(y_val, binary_preds))\n",
    "        ssn_binary_predictions += list(binary_preds)\n",
    "        ssn_targets += list(y_val)\n",
    "    \n",
    "    print(f'Average mae: {np.mean(ssn_mae_scores)}')\n",
    "    # errors start here\n",
    "    features = sorted(features)# did this to  try and debug the error I am on right now \n",
    "    \n",
    "    feature_importance = {feature: 0 for feature in features}\n",
    "    for ssn in models:\n",
    "        importance = models[ssn].get_fscore()\n",
    "        for feature in importance:\n",
    "            feature_importance[feature] += importance[feature]\n",
    "    \n",
    "    # Sort features by importance\n",
    "    sorted_feature_importance = sorted(feature_importance.items(), key=lambda x: x[1], reverse=True)\n",
    "    features, importances = zip(*sorted_feature_importance)\n",
    "    \n",
    "    # Plot feature importances\n",
    "    plt.figure(figsize=(10, 6))\n",
    "    plt.barh(range(len(features)), importances, align='center')\n",
    "    plt.yticks(range(len(features)), features)\n",
    "    plt.xlabel('Feature Importance')\n",
    "    plt.ylabel('Features')\n",
    "    plt.title('XGBoost Feature Importance')\n",
    "    plt.show()\n",
    "\n",
    "    return models"
   ]
  },
  {
   "cell_type": "code",
   "execution_count": 142,
   "id": "370ffa26-1f15-4923-97ad-fc678521f87e",
   "metadata": {},
   "outputs": [
    {
     "name": "stdout",
     "output_type": "stream",
     "text": [
      "season 2003 mae: 0.296875\n",
      "season 2004 mae: 0.328125\n",
      "season 2005 mae: 0.265625\n",
      "season 2006 mae: 0.3125\n",
      "season 2007 mae: 0.203125\n",
      "season 2008 mae: 0.3125\n",
      "season 2009 mae: 0.234375\n",
      "season 2010 mae: 0.328125\n",
      "season 2011 mae: 0.4626865671641791\n",
      "season 2012 mae: 0.417910447761194\n",
      "season 2013 mae: 0.3582089552238806\n",
      "season 2014 mae: 0.3582089552238806\n",
      "season 2015 mae: 0.34328358208955223\n",
      "season 2016 mae: 0.40298507462686567\n",
      "season 2017 mae: 0.2835820895522388\n",
      "season 2018 mae: 0.373134328358209\n",
      "season 2019 mae: 0.31343283582089554\n",
      "season 2021 mae: 0.3484848484848485\n",
      "Average mae: 0.33017598246143026\n"
     ]
    },
    {
     "ename": "KeyError",
     "evalue": "'f0'",
     "output_type": "error",
     "traceback": [
      "\u001b[0;31m---------------------------------------------------------------------------\u001b[0m",
      "\u001b[0;31mKeyError\u001b[0m                                  Traceback (most recent call last)",
      "Cell \u001b[0;32mIn[142], line 1\u001b[0m\n\u001b[0;32m----> 1\u001b[0m \u001b[43mcv_xg_boost\u001b[49m\u001b[43m(\u001b[49m\u001b[43mdf\u001b[49m\u001b[43m,\u001b[49m\u001b[43m \u001b[49m\u001b[43mfeatures\u001b[49m\u001b[43m,\u001b[49m\u001b[43m \u001b[49m\u001b[43mparams\u001b[49m\u001b[43m)\u001b[49m\n",
      "Cell \u001b[0;32mIn[141], line 40\u001b[0m, in \u001b[0;36mcv_xg_boost\u001b[0;34m(df, features, params)\u001b[0m\n\u001b[1;32m     38\u001b[0m     importance \u001b[38;5;241m=\u001b[39m models[ssn]\u001b[38;5;241m.\u001b[39mget_fscore()\n\u001b[1;32m     39\u001b[0m     \u001b[38;5;28;01mfor\u001b[39;00m feature \u001b[38;5;129;01min\u001b[39;00m importance:\n\u001b[0;32m---> 40\u001b[0m         feature_importance[feature] \u001b[38;5;241m+\u001b[39m\u001b[38;5;241m=\u001b[39m importance[feature]\n\u001b[1;32m     42\u001b[0m \u001b[38;5;66;03m# Sort features by importance\u001b[39;00m\n\u001b[1;32m     43\u001b[0m sorted_feature_importance \u001b[38;5;241m=\u001b[39m \u001b[38;5;28msorted\u001b[39m(feature_importance\u001b[38;5;241m.\u001b[39mitems(), key\u001b[38;5;241m=\u001b[39m\u001b[38;5;28;01mlambda\u001b[39;00m x: x[\u001b[38;5;241m1\u001b[39m], reverse\u001b[38;5;241m=\u001b[39m\u001b[38;5;28;01mTrue\u001b[39;00m)\n",
      "\u001b[0;31mKeyError\u001b[0m: 'f0'"
     ]
    }
   ],
   "source": [
    "cv_xg_boost(df, features, params)"
   ]
  },
  {
   "cell_type": "code",
   "execution_count": null,
   "id": "3469ee33-e83a-4fe8-b39d-3ca44168922c",
   "metadata": {},
   "outputs": [],
   "source": [
    "xgb.plot_importance(xgb_clf)\n",
    "plt.figure(figsize = (16, 12))\n",
    "plt.show()"
   ]
  }
 ],
 "metadata": {
  "kernelspec": {
   "display_name": "Python 3 (ipykernel)",
   "language": "python",
   "name": "python3"
  },
  "language_info": {
   "codemirror_mode": {
    "name": "ipython",
    "version": 3
   },
   "file_extension": ".py",
   "mimetype": "text/x-python",
   "name": "python",
   "nbconvert_exporter": "python",
   "pygments_lexer": "ipython3",
   "version": "3.9.18"
  }
 },
 "nbformat": 4,
 "nbformat_minor": 5
}
